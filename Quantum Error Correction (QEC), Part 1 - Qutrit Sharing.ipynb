{
 "cells": [
  {
   "cell_type": "markdown",
   "metadata": {},
   "source": [
    "## Mathjax custom \n",
    "\n",
    "$ \\newcommand{\\opexpect}[3]{\\langle #1 \\vert #2 \\vert #3 \\rangle} $\n",
    "$ \\newcommand{\\rarrow}{\\rightarrow} $\n",
    "$ \\newcommand{\\bra}{\\langle} $\n",
    "$ \\newcommand{\\ket}{\\rangle} $\n",
    "\n",
    "$ \\newcommand{\\up}{\\uparrow} $\n",
    "$ \\newcommand{\\down}{\\downarrow} $\n",
    "\n",
    "$ \\newcommand{\\mb}[1]{\\mathbf{#1}} $\n",
    "$ \\newcommand{\\mc}[1]{\\mathcal{#1}} $\n",
    "$ \\newcommand{\\mbb}[1]{\\mathbb{#1}} $\n",
    "$ \\newcommand{\\mf}[1]{\\mathfrak{#1}} $\n",
    "\n",
    "$ \\newcommand{\\vect}[1]{\\boldsymbol{\\mathrm{#1}}} $\n",
    "$ \\newcommand{\\expect}[1]{\\langle #1\\rangle} $\n",
    "\n",
    "$ \\newcommand{\\innerp}[2]{\\langle #1 \\vert #2 \\rangle} $\n",
    "$ \\newcommand{\\fullbra}[1]{\\langle #1 \\vert} $\n",
    "$ \\newcommand{\\fullket}[1]{\\vert #1 \\rangle} $\n",
    "$ \\newcommand{\\supersc}[1]{^{\\text{#1}}} $\n",
    "$ \\newcommand{\\subsc}[1]{_{\\text{#1}}} $\n",
    "$ \\newcommand{\\sltwoc}{SL(2,\\mathbb{C})} $\n",
    "$ \\newcommand{\\sltwoz}{SL(2,\\mathbb{Z})} $\n",
    "\n",
    "$ \\newcommand{\\utilde}[1]{\\underset{\\sim}{#1}} $"
   ]
  },
  {
   "cell_type": "markdown",
   "metadata": {},
   "source": [
    "## Quantum Error Correction\n",
    "\n",
    "References: [ADH, 2014, Sec. 3](http://arxiv.org/abs/1411.7041) (& [CGL, 1999](http://arxiv.org/abs/quant-ph/9901025))"
   ]
  },
  {
   "cell_type": "code",
   "execution_count": 1,
   "metadata": {
    "collapsed": true
   },
   "outputs": [],
   "source": [
    "import matplotlib\n",
    "matplotlib.use('qt4agg')\n",
    "%matplotlib inline"
   ]
  },
  {
   "cell_type": "code",
   "execution_count": 2,
   "metadata": {
    "collapsed": false
   },
   "outputs": [],
   "source": [
    "import numpy as np\n",
    "import matplotlib.pyplot as plt\n",
    "from qutip import *"
   ]
  },
  {
   "cell_type": "markdown",
   "metadata": {
    "collapsed": true
   },
   "source": [
    "### Erasure Correction\n",
    "\n",
    "Reference: ADH, 2014, Sec. 3.1\n",
    "\n",
    "A 'qutrit' is a quantum state defined on a three-dimensional Hilbert space $\\mc{H}_3$. A state $\\fullket{\\psi} \\in \\mc{H}_3$ can be written as:\n",
    "\n",
    "$$ \\fullket{\\psi} = \\sum_{i=0}^2 a_i \\fullket{i} $$\n",
    "\n",
    "where $ \\fullket{i} \\in \\{\\fullket{0}, \\fullket{1}, \\fullket{2}\\}$\n",
    "\n",
    "Alice wishes to send the state $\\fullket{\\psi}$. For this purpose she uses the three-qutrit state:\n",
    "\n",
    "$$ \\fullket{\\tilde \\psi} = \\sum_{i=0}^2 a_i \\fullket{\\tilde i} $$\n",
    "\n",
    "where:\n",
    "\n",
    "\\begin{align}\n",
    "    \\fullket{\\tilde 0} & = \\frac{1}{\\sqrt{3}}\\left( \\fullket{000} + \\fullket{111} + \\fullket{222} \\right) \\\\\n",
    "    \\fullket{\\tilde 1} & = \\frac{1}{\\sqrt{3}}\\left( \\fullket{012} + \\fullket{120} + \\fullket{201} \\right) \\\\\n",
    "    \\fullket{\\tilde 2} & = \\frac{1}{\\sqrt{3}}\\left( \\fullket{021} + \\fullket{102} + \\fullket{210} \\right)\n",
    "\\end{align}"
   ]
  },
  {
   "cell_type": "markdown",
   "metadata": {},
   "source": [
    "In QuTiP, a single qutrit state can be created as follows:"
   ]
  },
  {
   "cell_type": "code",
   "execution_count": 3,
   "metadata": {
    "collapsed": true
   },
   "outputs": [],
   "source": [
    "q0 = basis(3,0)\n",
    "q1 = basis(3,1)\n",
    "q2 = basis(3,2)"
   ]
  },
  {
   "cell_type": "code",
   "execution_count": 4,
   "metadata": {
    "collapsed": false
   },
   "outputs": [
    {
     "data": {
      "text/plain": [
       "(Quantum object: dims = [[3], [1]], shape = (3, 1), type = ket\n",
       " Qobj data =\n",
       " [[ 1.]\n",
       "  [ 0.]\n",
       "  [ 0.]], Quantum object: dims = [[3], [1]], shape = (3, 1), type = ket\n",
       " Qobj data =\n",
       " [[ 0.]\n",
       "  [ 1.]\n",
       "  [ 0.]], Quantum object: dims = [[3], [1]], shape = (3, 1), type = ket\n",
       " Qobj data =\n",
       " [[ 0.]\n",
       "  [ 0.]\n",
       "  [ 1.]])"
      ]
     },
     "execution_count": 4,
     "metadata": {},
     "output_type": "execute_result"
    }
   ],
   "source": [
    "q0, q1, q2"
   ]
  },
  {
   "cell_type": "markdown",
   "metadata": {},
   "source": [
    "It will be more convenient to put these states into an numpy ndarray object"
   ]
  },
  {
   "cell_type": "code",
   "execution_count": 5,
   "metadata": {
    "collapsed": true
   },
   "outputs": [],
   "source": [
    "qutrit_basis = np.ndarray((3), dtype=Qobj)\n",
    "qutrit_basis = [q0, q1, q2]"
   ]
  },
  {
   "cell_type": "markdown",
   "metadata": {},
   "source": [
    "Create an alias with shorter name"
   ]
  },
  {
   "cell_type": "code",
   "execution_count": 6,
   "metadata": {
    "collapsed": false
   },
   "outputs": [],
   "source": [
    "qb = qutrit_basis"
   ]
  },
  {
   "cell_type": "markdown",
   "metadata": {},
   "source": [
    "The three qutrit basis states can then be expressed as elements of a three-index array object"
   ]
  },
  {
   "cell_type": "code",
   "execution_count": 7,
   "metadata": {
    "collapsed": false
   },
   "outputs": [],
   "source": [
    "qutrit3_basis = np.ndarray((3,3,3), dtype=Qobj)\n",
    "q3b = qutrit3_basis"
   ]
  },
  {
   "cell_type": "code",
   "execution_count": 8,
   "metadata": {
    "collapsed": false
   },
   "outputs": [],
   "source": [
    "for i in range(2):\n",
    "    for j in range(2):\n",
    "        for k in range(3):\n",
    "            q3b[i][j][k] = tensor([qb[i],qb[j],qb[k]])"
   ]
  },
  {
   "cell_type": "code",
   "execution_count": 9,
   "metadata": {
    "collapsed": true
   },
   "outputs": [],
   "source": [
    "def ndit_basis(N=2,n=2):\n",
    "    '''returns a numpy array of Qobj elements, each element of which is a basis state of the tensor product space\n",
    "    of N ndits (n)'''\n",
    "    return"
   ]
  },
  {
   "cell_type": "markdown",
   "metadata": {},
   "source": [
    "We can now create the particular combinations of the 3-qutrit states which will correspond to the basis states Alice used to send her message"
   ]
  },
  {
   "cell_type": "code",
   "execution_count": 10,
   "metadata": {
    "collapsed": true
   },
   "outputs": [],
   "source": [
    "alice3_basis = np.ndarray(3, dtype=Qobj)\n",
    "a3b = alice3_basis"
   ]
  },
  {
   "cell_type": "code",
   "execution_count": 11,
   "metadata": {
    "collapsed": false
   },
   "outputs": [],
   "source": [
    "a3b[0] = 1/(np.sqrt(3))*(q3b[0,0,0] + q3b[1,1,1] + q3b[2,2,2])\n",
    "a3b[1] = 1/(np.sqrt(3))*(q3b[0,1,2] + q3b[1,2,0] + q3b[2,0,1])\n",
    "a3b[2] = 1/(np.sqrt(3))*(q3b[0,2,1] + q3b[1,0,2] + q3b[2,1,0])"
   ]
  },
  {
   "cell_type": "markdown",
   "metadata": {},
   "source": [
    "Construct state $\\fullket{\\tilde \\psi}$ with random coefficients out of Alice's three-qutrit states."
   ]
  },
  {
   "cell_type": "code",
   "execution_count": 13,
   "metadata": {
    "collapsed": false
   },
   "outputs": [
    {
     "data": {
      "text/plain": [
       "array([ 0.3220762 ,  0.34865907,  0.88017258])"
      ]
     },
     "execution_count": 13,
     "metadata": {},
     "output_type": "execute_result"
    }
   ],
   "source": [
    "a = np.ndarray((3))\n",
    "dont_accept = True\n",
    "while dont_accept:\n",
    "    a[0] = np.random.random_sample()\n",
    "    a[1] = np.random.random_sample()\n",
    "    if (a[0]**2 + a[1]**2) < 1:\n",
    "        dont_accept = False\n",
    "a[2] = np.sqrt(1 - a[0]**2 - a[1]**2)\n",
    "a"
   ]
  },
  {
   "cell_type": "code",
   "execution_count": 14,
   "metadata": {
    "collapsed": false
   },
   "outputs": [
    {
     "data": {
      "text/plain": [
       "1.0"
      ]
     },
     "execution_count": 14,
     "metadata": {},
     "output_type": "execute_result"
    }
   ],
   "source": [
    "a[0]**2 + a[1]**2 + a[2]**2"
   ]
  },
  {
   "cell_type": "code",
   "execution_count": 15,
   "metadata": {
    "collapsed": true
   },
   "outputs": [],
   "source": [
    "def random_normalized_coefs(N=3):\n",
    "    '''Returns N floats, whose squared sum is 1'''\n",
    "    a = np.ndarray((N))\n",
    "    dont_accept = True\n",
    "    sum = 0\n",
    "    while dont_accept:\n",
    "        for i in range(N-1):\n",
    "            a[i] = np.random.random_sample()\n",
    "            sum+= a[i]**2\n",
    "        if sum < 1:\n",
    "            dont_accept = False\n",
    "    a[N-1] = np.sqrt(1 - sum)\n",
    "    return a"
   ]
  },
  {
   "cell_type": "code",
   "execution_count": 16,
   "metadata": {
    "collapsed": false
   },
   "outputs": [
    {
     "data": {
      "text/plain": [
       "1.0"
      ]
     },
     "execution_count": 16,
     "metadata": {},
     "output_type": "execute_result"
    }
   ],
   "source": [
    "np.linalg.norm(a)"
   ]
  },
  {
   "cell_type": "code",
   "execution_count": 17,
   "metadata": {
    "collapsed": false
   },
   "outputs": [
    {
     "name": "stderr",
     "output_type": "stream",
     "text": [
      "/Users/deepak/anaconda/envs/python3/lib/python3.5/site-packages/qutip/qobj.py:301: UserWarning: Initializing Qobj from unsupported type: <class 'type'>\n",
      "  builtins.type(inpt))\n"
     ]
    },
    {
     "data": {
      "text/latex": [
       "Quantum object: dims = [[3, 3, 3], [1, 1, 1]], shape = (27, 1), type = ket\\begin{equation*}\\left(\\begin{array}{*{11}c}0.214\\\\0.0\\\\0.0\\\\0.0\\\\0.0\\\\\\vdots\\\\0.0\\\\0.0\\\\0.0\\\\0.0\\\\0.0\\\\\\end{array}\\right)\\end{equation*}"
      ],
      "text/plain": [
       "Quantum object: dims = [[3, 3, 3], [1, 1, 1]], shape = (27, 1), type = ket\n",
       "Qobj data =\n",
       "[[ 0.2135584 ]\n",
       " [ 0.        ]\n",
       " [ 0.        ]\n",
       " [ 0.        ]\n",
       " [ 0.        ]\n",
       " [ 0.41357974]\n",
       " [ 0.        ]\n",
       " [ 0.        ]\n",
       " [ 0.        ]\n",
       " [ 0.        ]\n",
       " [ 0.        ]\n",
       " [ 0.34158153]\n",
       " [ 0.        ]\n",
       " [ 0.2135584 ]\n",
       " [ 0.        ]\n",
       " [ 0.        ]\n",
       " [ 0.        ]\n",
       " [ 0.        ]\n",
       " [ 0.        ]\n",
       " [ 0.        ]\n",
       " [ 0.        ]\n",
       " [ 0.        ]\n",
       " [ 0.        ]\n",
       " [ 0.        ]\n",
       " [ 0.        ]\n",
       " [ 0.        ]\n",
       " [ 0.        ]]"
      ]
     },
     "execution_count": 17,
     "metadata": {},
     "output_type": "execute_result"
    }
   ],
   "source": [
    "a = random_normalized_coefs(len(a3b))\n",
    "psi_3q = Qobj\n",
    "for i in range(len(a3b)):\n",
    "    psi_3q += a[i]*a3b[i]\n",
    "psi_3q"
   ]
  },
  {
   "cell_type": "code",
   "execution_count": 18,
   "metadata": {
    "collapsed": false
   },
   "outputs": [
    {
     "name": "stdout",
     "output_type": "stream",
     "text": [
      "  (0, 0)\t(0.213558398256+0j)\n",
      "  (5, 0)\t(0.413579737501+0j)\n",
      "  (11, 0)\t(0.341581534332+0j)\n",
      "  (13, 0)\t(0.213558398256+0j)\n"
     ]
    }
   ],
   "source": [
    "print(psi_3q.data)"
   ]
  },
  {
   "cell_type": "code",
   "execution_count": 21,
   "metadata": {
    "collapsed": false
   },
   "outputs": [
    {
     "data": {
      "text/latex": [
       "Quantum object: dims = [[3, 3, 3], [3, 3, 3]], shape = (27, 27), type = oper, isherm = True\\begin{equation*}\\left(\\begin{array}{*{11}c}0.046 & 0.0 & 0.0 & 0.0 & 0.0 & \\cdots & 0.0 & 0.0 & 0.0 & 0.0 & 0.0\\\\0.0 & 0.0 & 0.0 & 0.0 & 0.0 & \\cdots & 0.0 & 0.0 & 0.0 & 0.0 & 0.0\\\\0.0 & 0.0 & 0.0 & 0.0 & 0.0 & \\cdots & 0.0 & 0.0 & 0.0 & 0.0 & 0.0\\\\0.0 & 0.0 & 0.0 & 0.0 & 0.0 & \\cdots & 0.0 & 0.0 & 0.0 & 0.0 & 0.0\\\\0.0 & 0.0 & 0.0 & 0.0 & 0.0 & \\cdots & 0.0 & 0.0 & 0.0 & 0.0 & 0.0\\\\\\vdots & \\vdots & \\vdots & \\vdots & \\vdots & \\ddots & \\vdots & \\vdots & \\vdots & \\vdots & \\vdots\\\\0.0 & 0.0 & 0.0 & 0.0 & 0.0 & \\cdots & 0.0 & 0.0 & 0.0 & 0.0 & 0.0\\\\0.0 & 0.0 & 0.0 & 0.0 & 0.0 & \\cdots & 0.0 & 0.0 & 0.0 & 0.0 & 0.0\\\\0.0 & 0.0 & 0.0 & 0.0 & 0.0 & \\cdots & 0.0 & 0.0 & 0.0 & 0.0 & 0.0\\\\0.0 & 0.0 & 0.0 & 0.0 & 0.0 & \\cdots & 0.0 & 0.0 & 0.0 & 0.0 & 0.0\\\\0.0 & 0.0 & 0.0 & 0.0 & 0.0 & \\cdots & 0.0 & 0.0 & 0.0 & 0.0 & 0.0\\\\\\end{array}\\right)\\end{equation*}"
      ],
      "text/plain": [
       "Quantum object: dims = [[3, 3, 3], [3, 3, 3]], shape = (27, 27), type = oper, isherm = True\n",
       "Qobj data =\n",
       "[[ 0.04560719  0.          0.          0.          0.          0.08832343\n",
       "   0.          0.          0.          0.          0.          0.07294761\n",
       "   0.          0.04560719  0.          0.          0.          0.          0.\n",
       "   0.          0.          0.          0.          0.          0.          0.\n",
       "   0.        ]\n",
       " [ 0.          0.          0.          0.          0.          0.          0.\n",
       "   0.          0.          0.          0.          0.          0.          0.\n",
       "   0.          0.          0.          0.          0.          0.          0.\n",
       "   0.          0.          0.          0.          0.          0.        ]\n",
       " [ 0.          0.          0.          0.          0.          0.          0.\n",
       "   0.          0.          0.          0.          0.          0.          0.\n",
       "   0.          0.          0.          0.          0.          0.          0.\n",
       "   0.          0.          0.          0.          0.          0.        ]\n",
       " [ 0.          0.          0.          0.          0.          0.          0.\n",
       "   0.          0.          0.          0.          0.          0.          0.\n",
       "   0.          0.          0.          0.          0.          0.          0.\n",
       "   0.          0.          0.          0.          0.          0.        ]\n",
       " [ 0.          0.          0.          0.          0.          0.          0.\n",
       "   0.          0.          0.          0.          0.          0.          0.\n",
       "   0.          0.          0.          0.          0.          0.          0.\n",
       "   0.          0.          0.          0.          0.          0.        ]\n",
       " [ 0.08832343  0.          0.          0.          0.          0.1710482\n",
       "   0.          0.          0.          0.          0.          0.1412712\n",
       "   0.          0.08832343  0.          0.          0.          0.          0.\n",
       "   0.          0.          0.          0.          0.          0.          0.\n",
       "   0.        ]\n",
       " [ 0.          0.          0.          0.          0.          0.          0.\n",
       "   0.          0.          0.          0.          0.          0.          0.\n",
       "   0.          0.          0.          0.          0.          0.          0.\n",
       "   0.          0.          0.          0.          0.          0.        ]\n",
       " [ 0.          0.          0.          0.          0.          0.          0.\n",
       "   0.          0.          0.          0.          0.          0.          0.\n",
       "   0.          0.          0.          0.          0.          0.          0.\n",
       "   0.          0.          0.          0.          0.          0.        ]\n",
       " [ 0.          0.          0.          0.          0.          0.          0.\n",
       "   0.          0.          0.          0.          0.          0.          0.\n",
       "   0.          0.          0.          0.          0.          0.          0.\n",
       "   0.          0.          0.          0.          0.          0.        ]\n",
       " [ 0.          0.          0.          0.          0.          0.          0.\n",
       "   0.          0.          0.          0.          0.          0.          0.\n",
       "   0.          0.          0.          0.          0.          0.          0.\n",
       "   0.          0.          0.          0.          0.          0.        ]\n",
       " [ 0.          0.          0.          0.          0.          0.          0.\n",
       "   0.          0.          0.          0.          0.          0.          0.\n",
       "   0.          0.          0.          0.          0.          0.          0.\n",
       "   0.          0.          0.          0.          0.          0.        ]\n",
       " [ 0.07294761  0.          0.          0.          0.          0.1412712\n",
       "   0.          0.          0.          0.          0.          0.11667794\n",
       "   0.          0.07294761  0.          0.          0.          0.          0.\n",
       "   0.          0.          0.          0.          0.          0.          0.\n",
       "   0.        ]\n",
       " [ 0.          0.          0.          0.          0.          0.          0.\n",
       "   0.          0.          0.          0.          0.          0.          0.\n",
       "   0.          0.          0.          0.          0.          0.          0.\n",
       "   0.          0.          0.          0.          0.          0.        ]\n",
       " [ 0.04560719  0.          0.          0.          0.          0.08832343\n",
       "   0.          0.          0.          0.          0.          0.07294761\n",
       "   0.          0.04560719  0.          0.          0.          0.          0.\n",
       "   0.          0.          0.          0.          0.          0.          0.\n",
       "   0.        ]\n",
       " [ 0.          0.          0.          0.          0.          0.          0.\n",
       "   0.          0.          0.          0.          0.          0.          0.\n",
       "   0.          0.          0.          0.          0.          0.          0.\n",
       "   0.          0.          0.          0.          0.          0.        ]\n",
       " [ 0.          0.          0.          0.          0.          0.          0.\n",
       "   0.          0.          0.          0.          0.          0.          0.\n",
       "   0.          0.          0.          0.          0.          0.          0.\n",
       "   0.          0.          0.          0.          0.          0.        ]\n",
       " [ 0.          0.          0.          0.          0.          0.          0.\n",
       "   0.          0.          0.          0.          0.          0.          0.\n",
       "   0.          0.          0.          0.          0.          0.          0.\n",
       "   0.          0.          0.          0.          0.          0.        ]\n",
       " [ 0.          0.          0.          0.          0.          0.          0.\n",
       "   0.          0.          0.          0.          0.          0.          0.\n",
       "   0.          0.          0.          0.          0.          0.          0.\n",
       "   0.          0.          0.          0.          0.          0.        ]\n",
       " [ 0.          0.          0.          0.          0.          0.          0.\n",
       "   0.          0.          0.          0.          0.          0.          0.\n",
       "   0.          0.          0.          0.          0.          0.          0.\n",
       "   0.          0.          0.          0.          0.          0.        ]\n",
       " [ 0.          0.          0.          0.          0.          0.          0.\n",
       "   0.          0.          0.          0.          0.          0.          0.\n",
       "   0.          0.          0.          0.          0.          0.          0.\n",
       "   0.          0.          0.          0.          0.          0.        ]\n",
       " [ 0.          0.          0.          0.          0.          0.          0.\n",
       "   0.          0.          0.          0.          0.          0.          0.\n",
       "   0.          0.          0.          0.          0.          0.          0.\n",
       "   0.          0.          0.          0.          0.          0.        ]\n",
       " [ 0.          0.          0.          0.          0.          0.          0.\n",
       "   0.          0.          0.          0.          0.          0.          0.\n",
       "   0.          0.          0.          0.          0.          0.          0.\n",
       "   0.          0.          0.          0.          0.          0.        ]\n",
       " [ 0.          0.          0.          0.          0.          0.          0.\n",
       "   0.          0.          0.          0.          0.          0.          0.\n",
       "   0.          0.          0.          0.          0.          0.          0.\n",
       "   0.          0.          0.          0.          0.          0.        ]\n",
       " [ 0.          0.          0.          0.          0.          0.          0.\n",
       "   0.          0.          0.          0.          0.          0.          0.\n",
       "   0.          0.          0.          0.          0.          0.          0.\n",
       "   0.          0.          0.          0.          0.          0.        ]\n",
       " [ 0.          0.          0.          0.          0.          0.          0.\n",
       "   0.          0.          0.          0.          0.          0.          0.\n",
       "   0.          0.          0.          0.          0.          0.          0.\n",
       "   0.          0.          0.          0.          0.          0.        ]\n",
       " [ 0.          0.          0.          0.          0.          0.          0.\n",
       "   0.          0.          0.          0.          0.          0.          0.\n",
       "   0.          0.          0.          0.          0.          0.          0.\n",
       "   0.          0.          0.          0.          0.          0.        ]\n",
       " [ 0.          0.          0.          0.          0.          0.          0.\n",
       "   0.          0.          0.          0.          0.          0.          0.\n",
       "   0.          0.          0.          0.          0.          0.          0.\n",
       "   0.          0.          0.          0.          0.          0.        ]]"
      ]
     },
     "execution_count": 21,
     "metadata": {},
     "output_type": "execute_result"
    }
   ],
   "source": [
    "ket2dm(psi_3q)"
   ]
  },
  {
   "cell_type": "code",
   "execution_count": 22,
   "metadata": {
    "collapsed": true
   },
   "outputs": [],
   "source": [
    "import qutip.visualization as qvis"
   ]
  },
  {
   "cell_type": "code",
   "execution_count": 23,
   "metadata": {
    "collapsed": false
   },
   "outputs": [
    {
     "data": {
      "text/plain": [
       "4"
      ]
     },
     "execution_count": 23,
     "metadata": {},
     "output_type": "execute_result"
    }
   ],
   "source": [
    "qutip.visualization._sequence_to_index([1,0,0],[2,2,2])"
   ]
  },
  {
   "cell_type": "code",
   "execution_count": 24,
   "metadata": {
    "collapsed": false
   },
   "outputs": [
    {
     "data": {
      "text/plain": [
       "'$\\\\left|101\\\\right\\\\rangle$'"
      ]
     },
     "execution_count": 24,
     "metadata": {},
     "output_type": "execute_result"
    }
   ],
   "source": [
    "qvis._sequence_to_latex([1,0,1])"
   ]
  },
  {
   "cell_type": "code",
   "execution_count": 25,
   "metadata": {
    "collapsed": false
   },
   "outputs": [
    {
     "data": {
      "text/plain": [
       "[0, 0, 0]"
      ]
     },
     "execution_count": 25,
     "metadata": {},
     "output_type": "execute_result"
    }
   ],
   "source": [
    "qvis._index_to_sequence(27,[3,3,3])"
   ]
  },
  {
   "cell_type": "code",
   "execution_count": 26,
   "metadata": {
    "collapsed": false
   },
   "outputs": [
    {
     "name": "stdout",
     "output_type": "stream",
     "text": [
      "  (0, 0)\t(0.213558398256+0j)\n",
      "  (5, 0)\t(0.413579737501+0j)\n",
      "  (11, 0)\t(0.341581534332+0j)\n",
      "  (13, 0)\t(0.213558398256+0j)\n"
     ]
    }
   ],
   "source": [
    "print(psi_3q.data)"
   ]
  },
  {
   "cell_type": "code",
   "execution_count": 27,
   "metadata": {
    "collapsed": true
   },
   "outputs": [],
   "source": [
    "data = psi_3q.data"
   ]
  },
  {
   "cell_type": "code",
   "execution_count": 28,
   "metadata": {
    "collapsed": false
   },
   "outputs": [
    {
     "data": {
      "text/plain": [
       "0.6155814509866206"
      ]
     },
     "execution_count": 28,
     "metadata": {},
     "output_type": "execute_result"
    }
   ],
   "source": [
    "psi_3q.norm()"
   ]
  },
  {
   "cell_type": "code",
   "execution_count": 29,
   "metadata": {
    "collapsed": false
   },
   "outputs": [
    {
     "data": {
      "text/plain": [
       "<27x1 sparse matrix of type '<class 'numpy.complex128'>'\n",
       "\twith 4 stored elements in Compressed Sparse Row format>"
      ]
     },
     "execution_count": 29,
     "metadata": {},
     "output_type": "execute_result"
    }
   ],
   "source": [
    "data"
   ]
  },
  {
   "cell_type": "code",
   "execution_count": 30,
   "metadata": {
    "collapsed": true
   },
   "outputs": [],
   "source": [
    "def ket_to_latex(qket):\n",
    "    '''Given a state in the form of a QuTiP ket as input (qket), returns the latex expression for the\n",
    "    state in terms of a superposition of basis states for the underlying Hilbert space'''\n",
    "    \n",
    "    return"
   ]
  },
  {
   "cell_type": "code",
   "execution_count": 31,
   "metadata": {
    "collapsed": false
   },
   "outputs": [
    {
     "data": {
      "text/plain": [
       "(array([ 0,  5, 11, 13], dtype=int32), array([0, 0, 0, 0], dtype=int32))"
      ]
     },
     "execution_count": 31,
     "metadata": {},
     "output_type": "execute_result"
    }
   ],
   "source": [
    "data.nonzero()"
   ]
  },
  {
   "cell_type": "code",
   "execution_count": 33,
   "metadata": {
    "collapsed": false
   },
   "outputs": [
    {
     "data": {
      "text/plain": [
       "array([ 0.21355840+0.j,  0.41357974+0.j,  0.34158153+0.j,  0.21355840+0.j])"
      ]
     },
     "execution_count": 33,
     "metadata": {},
     "output_type": "execute_result"
    }
   ],
   "source": [
    "data.data"
   ]
  },
  {
   "cell_type": "code",
   "execution_count": 34,
   "metadata": {
    "collapsed": false
   },
   "outputs": [
    {
     "data": {
      "text/plain": [
       "array([0, 1, 1, 1, 1, 1, 2, 2, 2, 2, 2, 2, 3, 3, 4, 4, 4, 4, 4, 4, 4, 4, 4,\n",
       "       4, 4, 4, 4, 4], dtype=int32)"
      ]
     },
     "execution_count": 34,
     "metadata": {},
     "output_type": "execute_result"
    }
   ],
   "source": [
    "data.indptr"
   ]
  },
  {
   "cell_type": "code",
   "execution_count": 35,
   "metadata": {
    "collapsed": false
   },
   "outputs": [
    {
     "data": {
      "text/plain": [
       "array([0, 0, 0, 0], dtype=int32)"
      ]
     },
     "execution_count": 35,
     "metadata": {},
     "output_type": "execute_result"
    }
   ],
   "source": [
    "data.indices"
   ]
  },
  {
   "cell_type": "code",
   "execution_count": 36,
   "metadata": {
    "collapsed": false
   },
   "outputs": [
    {
     "data": {
      "text/plain": [
       "matrix([[ 0.21355840+0.j],\n",
       "        [ 0.00000000+0.j],\n",
       "        [ 0.00000000+0.j],\n",
       "        [ 0.00000000+0.j],\n",
       "        [ 0.00000000+0.j],\n",
       "        [ 0.41357974+0.j],\n",
       "        [ 0.00000000+0.j],\n",
       "        [ 0.00000000+0.j],\n",
       "        [ 0.00000000+0.j],\n",
       "        [ 0.00000000+0.j],\n",
       "        [ 0.00000000+0.j],\n",
       "        [ 0.34158153+0.j],\n",
       "        [ 0.00000000+0.j],\n",
       "        [ 0.21355840+0.j],\n",
       "        [ 0.00000000+0.j],\n",
       "        [ 0.00000000+0.j],\n",
       "        [ 0.00000000+0.j],\n",
       "        [ 0.00000000+0.j],\n",
       "        [ 0.00000000+0.j],\n",
       "        [ 0.00000000+0.j],\n",
       "        [ 0.00000000+0.j],\n",
       "        [ 0.00000000+0.j],\n",
       "        [ 0.00000000+0.j],\n",
       "        [ 0.00000000+0.j],\n",
       "        [ 0.00000000+0.j],\n",
       "        [ 0.00000000+0.j],\n",
       "        [ 0.00000000+0.j]])"
      ]
     },
     "execution_count": 36,
     "metadata": {},
     "output_type": "execute_result"
    }
   ],
   "source": [
    "data.todense()"
   ]
  },
  {
   "cell_type": "code",
   "execution_count": 37,
   "metadata": {
    "collapsed": false
   },
   "outputs": [
    {
     "name": "stdout",
     "output_type": "stream",
     "text": [
      "  (0, 0)\t(0.213558398256+0j)\n",
      "\n",
      "\n",
      "\n",
      "\n",
      "  (0, 0)\t(0.413579737501+0j)\n",
      "\n",
      "\n",
      "\n",
      "\n",
      "\n",
      "  (0, 0)\t(0.341581534332+0j)\n",
      "\n",
      "  (0, 0)\t(0.213558398256+0j)\n",
      "\n",
      "\n",
      "\n",
      "\n",
      "\n",
      "\n",
      "\n",
      "\n",
      "\n",
      "\n",
      "\n",
      "\n",
      "\n"
     ]
    }
   ],
   "source": [
    "for i in data:\n",
    "    print(i)"
   ]
  },
  {
   "cell_type": "code",
   "execution_count": 38,
   "metadata": {
    "collapsed": false
   },
   "outputs": [
    {
     "data": {
      "text/plain": [
       "(0.41357973750078092+0j)"
      ]
     },
     "execution_count": 38,
     "metadata": {},
     "output_type": "execute_result"
    }
   ],
   "source": [
    "data[5,0]"
   ]
  },
  {
   "cell_type": "code",
   "execution_count": 39,
   "metadata": {
    "collapsed": false
   },
   "outputs": [
    {
     "name": "stdout",
     "output_type": "stream",
     "text": [
      "0\n",
      "5\n",
      "11\n",
      "13\n"
     ]
    }
   ],
   "source": [
    "l = [0,5,11,13]\n",
    "kets = []\n",
    "for i in range(len(l)):\n",
    "    print (l[i])\n",
    "    kets.append(ket(qvis._index_to_sequence(l[i],[3,3,3]),dim=3))"
   ]
  },
  {
   "cell_type": "code",
   "execution_count": 40,
   "metadata": {
    "collapsed": false
   },
   "outputs": [],
   "source": [
    "kets;"
   ]
  },
  {
   "cell_type": "code",
   "execution_count": 41,
   "metadata": {
    "collapsed": true
   },
   "outputs": [],
   "source": [
    "state = Qobj()\n",
    "for i in range(len(l)):\n",
    "    state = state + data[l[i],0]*kets[i]"
   ]
  },
  {
   "cell_type": "code",
   "execution_count": 42,
   "metadata": {
    "collapsed": false
   },
   "outputs": [
    {
     "data": {
      "text/latex": [
       "Quantum object: dims = [[3, 3, 3], [1, 1, 1]], shape = (27, 1), type = ket\\begin{equation*}\\left(\\begin{array}{*{11}c}0.214\\\\0.0\\\\0.0\\\\0.0\\\\0.0\\\\\\vdots\\\\0.0\\\\0.0\\\\0.0\\\\0.0\\\\0.0\\\\\\end{array}\\right)\\end{equation*}"
      ],
      "text/plain": [
       "Quantum object: dims = [[3, 3, 3], [1, 1, 1]], shape = (27, 1), type = ket\n",
       "Qobj data =\n",
       "[[ 0.2135584 ]\n",
       " [ 0.        ]\n",
       " [ 0.        ]\n",
       " [ 0.        ]\n",
       " [ 0.        ]\n",
       " [ 0.41357974]\n",
       " [ 0.        ]\n",
       " [ 0.        ]\n",
       " [ 0.        ]\n",
       " [ 0.        ]\n",
       " [ 0.        ]\n",
       " [ 0.34158153]\n",
       " [ 0.        ]\n",
       " [ 0.2135584 ]\n",
       " [ 0.        ]\n",
       " [ 0.        ]\n",
       " [ 0.        ]\n",
       " [ 0.        ]\n",
       " [ 0.        ]\n",
       " [ 0.        ]\n",
       " [ 0.        ]\n",
       " [ 0.        ]\n",
       " [ 0.        ]\n",
       " [ 0.        ]\n",
       " [ 0.        ]\n",
       " [ 0.        ]\n",
       " [ 0.        ]]"
      ]
     },
     "execution_count": 42,
     "metadata": {},
     "output_type": "execute_result"
    }
   ],
   "source": [
    "state"
   ]
  },
  {
   "cell_type": "code",
   "execution_count": 43,
   "metadata": {
    "collapsed": false
   },
   "outputs": [
    {
     "name": "stdout",
     "output_type": "stream",
     "text": [
      "  (0, 0)\t(0.213558398256+0j)\n",
      "  (5, 0)\t(0.413579737501+0j)\n",
      "  (11, 0)\t(0.341581534332+0j)\n",
      "  (13, 0)\t(0.213558398256+0j)\n"
     ]
    }
   ],
   "source": [
    "print(state.data)"
   ]
  },
  {
   "cell_type": "code",
   "execution_count": 44,
   "metadata": {
    "collapsed": false
   },
   "outputs": [
    {
     "data": {
      "text/plain": [
       "True"
      ]
     },
     "execution_count": 44,
     "metadata": {},
     "output_type": "execute_result"
    }
   ],
   "source": [
    "psi_3q == state"
   ]
  },
  {
   "cell_type": "code",
   "execution_count": 46,
   "metadata": {
    "collapsed": false
   },
   "outputs": [
    {
     "data": {
      "text/latex": [
       "Quantum object: dims = [[3, 3, 3], [1, 1, 1]], shape = (27, 1), type = ket\\begin{equation*}\\left(\\begin{array}{*{11}c}1.0\\\\0.0\\\\0.0\\\\0.0\\\\0.0\\\\\\vdots\\\\0.0\\\\0.0\\\\0.0\\\\0.0\\\\0.0\\\\\\end{array}\\right)\\end{equation*}"
      ],
      "text/plain": [
       "Quantum object: dims = [[3, 3, 3], [1, 1, 1]], shape = (27, 1), type = ket\n",
       "Qobj data =\n",
       "[[ 1.]\n",
       " [ 0.]\n",
       " [ 0.]\n",
       " [ 0.]\n",
       " [ 0.]\n",
       " [ 0.]\n",
       " [ 0.]\n",
       " [ 0.]\n",
       " [ 0.]\n",
       " [ 0.]\n",
       " [ 0.]\n",
       " [ 0.]\n",
       " [ 0.]\n",
       " [ 0.]\n",
       " [ 0.]\n",
       " [ 0.]\n",
       " [ 0.]\n",
       " [ 0.]\n",
       " [ 0.]\n",
       " [ 0.]\n",
       " [ 0.]\n",
       " [ 0.]\n",
       " [ 0.]\n",
       " [ 0.]\n",
       " [ 0.]\n",
       " [ 0.]\n",
       " [ 0.]]"
      ]
     },
     "execution_count": 46,
     "metadata": {},
     "output_type": "execute_result"
    }
   ],
   "source": [
    "ket(qvis._index_to_sequence(0,[3,3,3]),dim=3)"
   ]
  },
  {
   "cell_type": "code",
   "execution_count": 47,
   "metadata": {
    "collapsed": true
   },
   "outputs": [],
   "source": [
    "ket?"
   ]
  },
  {
   "cell_type": "code",
   "execution_count": null,
   "metadata": {
    "collapsed": true
   },
   "outputs": [],
   "source": []
  }
 ],
 "metadata": {
  "kernelspec": {
   "display_name": "Python 3",
   "language": "python",
   "name": "python3"
  },
  "language_info": {
   "codemirror_mode": {
    "name": "ipython",
    "version": 3
   },
   "file_extension": ".py",
   "mimetype": "text/x-python",
   "name": "python",
   "nbconvert_exporter": "python",
   "pygments_lexer": "ipython3",
   "version": "3.5.2"
  },
  "latex_envs": {
   "bibliofile": "biblio.bib",
   "cite_by": "apalike",
   "current_citInitial": 1,
   "eqLabelWithNumbers": true,
   "eqNumInitial": 0
  }
 },
 "nbformat": 4,
 "nbformat_minor": 0
}
