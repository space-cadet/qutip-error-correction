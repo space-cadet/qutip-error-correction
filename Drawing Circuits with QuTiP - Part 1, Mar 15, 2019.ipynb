{
 "cells": [
  {
   "cell_type": "markdown",
   "metadata": {},
   "source": [
    "# Problems with Qcirc.png\n",
    "\n",
    "Reference: https://github.com/qutip/qutip/issues/702#issuecomment-307548166"
   ]
  },
  {
   "cell_type": "code",
   "execution_count": 15,
   "metadata": {},
   "outputs": [
    {
     "name": "stdout",
     "output_type": "stream",
     "text": [
      " &  &  \\ctrl{2}  & \\qw \\\\ \n",
      " &  &  \\qw  & \\qw \\\\ \n",
      " &  &  \\targ  & \\qw \\\\ \n",
      "\n"
     ]
    }
   ],
   "source": [
    "%matplotlib inline\n",
    "from qutip import *\n",
    "from qutip.qip.circuit_latex import _latex_compile\n",
    "N = 3\n",
    "qc = QubitCircuit(N)\n",
    "\n",
    "qc.add_gate(\"CNOT\", targets=[0], controls=[2])\n",
    "\n",
    "latex_code = qc.latex_code()\n",
    "print(latex_code)"
   ]
  },
  {
   "cell_type": "code",
   "execution_count": 24,
   "metadata": {},
   "outputs": [
    {
     "name": "stdout",
     "output_type": "stream",
     "text": [
      "b'\\x89PNG\\r\\n\\x1a\\n\\x00\\x00\\x00\\rIHDR\\x00\\x00\\x00\\\\\\x00\\x00\\x00^\\x08\\x04\\x00\\x00\\x00\\x04.\\xbb\\xd8\\x00\\x00\\x00\\x02bKGD\\x00\\xff\\x87\\x8f\\xcc\\xbf\\x00\\x00\\x00\\tpHYs\\x00\\x00\\x00d\\x00\\x00\\x00d\\x00\\x0f\\x96\\xc5\\xdd\\x00\\x00\\x00\\x07tIME\\x07\\xe3\\x03\\x0f\\x12\\x1d\\nC\\xdc[\\x16\\x00\\x00\\nxzTXtRaw profile type icc\\x00\\x00X\\x85\\x9d\\x97m\\x92d\\xa9\\rE\\xff\\xb3\\n/\\x81O\\t-\\x07\\x04\\x8a\\xf0\\xfe7\\xe0CVwO\\xb7\\xdd3c;+\\x88\\xccz\\x0f\\x84\\x90\\xae\\xee\\x15\\xe9\\x9f\\xee\\xe9\\x1f|\\xeaPI\\xf9}V\\xc9?>\\xf5\\xeb\\xb7\\x1c\\xb9\\xda\\xb5\\x8e\\xda\\xb5\\xd7\\x9a\\xc7\\x1c6V\\xcd\\x7f\\xf6IR\\xa4i\\xd3\\xdc\\xcb\\xc8#w\\xff\\xd3\\x99\\x7f\\xf1\\tv}\\x1e\\xfdp\\xe7\\xb4z\\xfe\\x1fC\\x1f\\x8f\\xfe\\xc7\\xf9K\\xba\\x0cm\\xd2\\xbe\\xf9\\xf2\\xed\\x04\\xea\\x89\\x83e\\xad\\xda?\\xff\\x17\\x9d_/\\xeaT%B\\xf9\\xfb\\xf3\\xf5\\xcdN\\xe9Re\\xff\\xf1|\\xf7\\xef\\xcf\\x13\\xe1\\xfc\\x84\\xf1\\xeb\\x7f\\x9f?\\x16\\xe8\\xcf\\xcf\\x8f\\xffa\\xe8\\xe7\\xe7\\x91\\x7f6\\xd4\\xc9\\xcc\\x97\\xab5\\x7f\\xed0\\xb3c\\xe8\\xf7\\xcf\\xffd~\\xfa\\xf5\\xcc\\xdf?\\xb5\\xf6\\xf2\\x0e,&\\xc2\\xfbI\\xfa\\x9b\\x84\\x08\\xc7U\\xe1\\x8d\\x8c\\x9a\\xb5}\\x87F\\xb7\\xdeRoL\"Jo\\x1a\\xcb\\\\\\xc6\\xef\\xa3\\xfcw\\xa6\\xd3\\x7f\\xda\\xfeoM\\xff\\xfa\\xf9\\xdb\\xf4\\xeb;\\xfa\\xfc\\x96%>\\x1d?\\xc8\\x9a\\xb1\\x91\\x89\\no\\xd8\\xfey\\xf4\\xd7qh\\xb5\\xe5V\\x1a\\x90\\xfd]\\x89D\\x1b\\x0f\\xcc\\xe5\\xbbG\\xa5\\x88\\xfb\\xdf\\xd5\\xd2\\xf7\\xcf\\xef\\xe6I\\xac\\xfa9Z\\x9b\\xf1\\x15\\x87f\\xbf\\x9fX\\xcd\\xde\\xf7\\xd6\\xf9\\x99W\\xe6Y\\xff>\\xefc\\xa8\\xf6o\\xc8\\x8d\\xf9\\x89\\xc5\\x16\\x0f\\x10?\\xc8\\x92\\xfcb\\xf1G\\xa4\\xf23\\xf8\\x16\\xc5\\x03#\\xc30T.\\xa6\\xda+\\x0b\\x06EK\\xd22u\\x93\\xdb\\xfeZ\\xd9Y\\xf4v\\xea,\\x1a<\\x18x7X\\xf3\\xb0\\'\\xf3\\x11\\x0e)yGS}E\\x07<\\t\\xda\\xc4\\x83\\x89\\x81w\\x12\\xc3\\x80a\\xc00\\xb00\\xb0x\\xb80\\xb0\\xeb;$\\x835\\xce\\x1ag\\x8do\\x0c=\\xe68,:\\x18`^\\xbe\\xfc\\xbe\\xfb\\xe35L\\xc3\\xd8\\xe4\\xe5\\xfd)\\xe3\\x90\\x9a\\xc60F\\xe4R\\x07\\x83\\xf7\\r\\x8fJ\\x9b\\x8c\\xcbQy\\x08\\xb1\\x15\\xb2^p\\xbf`\\xa3\\x08\\x8b\\x85w\\xca;\\xbc.\\x13#x\\\\\\x8c9x[\\xa0\\xd6\\x82\\xa7e\\x17\\x0cm~\\xe0bq\\xbe\\x0f\\xdf\\x87\\xef\\xcb\\xf7\\xe5;X\\x10\\x8b\\xe2l\\x0c\\x87\\x86;\\xe3P/\\xc2\\x08B;\\xc9Tap4\\xaa\\x99\\xc1Kv\\xaf\\xcaCe!\\xd9\\xab\\xf3\\xe6jL$\\xc7uad\\xb3\\x98\\r\\xabor2r}9\"\\x04\\x15\\xe8\\xb4\\x97\\xfe\\x967\\xe0\\x15\\x92U\\xf2\\xa3\\xda\\xc6.\\xd4\\x1b#r\\x83w\\x9a\\xf0N\\xf1I/\\x80\\xe3\\x7f\\xe3\\x7f\\x8c7\\x02\\xdf6\\xff\\xbb\\xe6v\\x1a\\x86\\xb0\\xdc\\xae\\xe7\\x16F\\xb6\\x85\\xc2i\\x99\\xfaa\\x1c\\nk\\xe7\\xde\\'\\x08@\\x17Hw\\xc7\\xe3\\x8e\\xc1>\\x9d\\xfa^\\xa0\\x82wx\\xda\\xbd\\xa7\\xdc\\x0f\\x13\\x88\\xc9\\x83I\\x8f\\x0b\\xd4N\\x1e\\xc5\\xf3 \\x1b\\xa3-\\xa0\\x03\\xdc\\xc7\\xcc\\x83\\xa3\\x0f\\xa02\\x80\\xc8\\xc0\\xab\\xb1\\x18\\x1b\\xe9q\\xc6\\x19\\tl\\xf1\\x834\\x7f\\xfe8\\xa2T\\xcd\\x8f\\xc8\\x05O\\x84\\xec\\x89\\xac,\\xba\\xc1\\x9eg\\xb1\\x93eE\\x16\\x7f8,Yn\\xa3\\xd0\\xe0\\x9c\\xac)+\\x98Pv\\xd7v\\xe0\\x8c\\xc8T>\\x18\\xedY\\xd9Y\\xa91%\\xd0\\xbay~ .6\\xd5\\x98P\\xeb\\x06\\xbf\\x91\\'U0\\xbb\\xe49V\\x02\\xcc7O8d\\xe2\\xee\\\\\\x0b`\\xf3?\\x8b\\xe6\\xd5<\\x01\\xa3\\x01^\\x03x\\xc61\\x8d\\x8dLz6\\xb5l\\x93\\xdf \\xde\\x08\\xb8y\\xa4l\\xecb,X\\xa5\\xe4\\xc5\\xb1\\x16\\x9e- \\xb18\\xd2\\xa2l\\x16\\x10Xdh\\x11\\x8b\\x85\\x9a\\xacxy\\xe6\\x0fB\\xdd\\xd0\\xc5\\x86\\x93\\xb6P\\xb4\\x9b\\xba\\xdbL\\xde\\xfb\\x95\\x0f\\xdf\\x04~\\x93A/@\\xb0\\xae\\xec@\\xc1\\x87g\\x07\\xdd\\x0e\\xb6|i\\xf6Wf\\x00\\xd71z\\xde_E\\xb2O\\x7f\\xa5\\xb6\\xf2!.\\x87\\x89\\x07\\xc8\\x1fg\\xc2\\xe17\\xf1\\xb8\\xc0\\xe1\\x82\\xbeK\\xf6.\\xc7\\xba\\x1a\\xf9\\xda\\xa6\\x1c%_Bp\\xef\\xa5,\\xf1(8\\x7f\\x00\\xf3\\x80\\x1a\\x02T\\x07\\xb1\\x8a\\xddP\\xe3\\xc8q_y\\x13\\xa5J\\x06:\\x8c+\\x9c_q\\xd96n\\xf3\\xfc\\xe8[X(\\xe4\\xc4\\xe0\\xbb\\x07|{J\\x99^\\xca\"Zn\\xa5\\xdc\\xc9\\xe1\\xb4PW\\xa5\\xf6Q\\xaa\\xf4B\\xe9\\x94\\xbaZ\\xa9\\xce\\xb8\\x90\\xf9#\\xf4\\xca@\\xd7\\n\\xe2\\x08\\x010\\x16\\x98\\xf6\\x01\\x11\\x0cJSJ\\xa7\\xf0z7Dz\\x95>w\\xe9\\xeb@\\x0e\\x97=!\\x87R\\xcbhtBC\\n\\xb2\\x01Y\\xecT\\xc6>\\x85S\\xbdj+t\\x08EX,\\xe2Ef\\x14\\xd9\\x15Gy\\x16\\xab(\\xd4\\xa0\\xbd\\x14\\x95A\\xafaE\\xd7-`\\xabhh\\x99\\x05C\\x14z\\x99\\xbc\\x9cs\\x95\\xb9\\x02b\\xe77\\x0b?\\x94\\xc3\\x91Lv1Nj\\x1b\\xe8\\x9eCc\\xd2\\xcb\\xaa\\xab,B\\xb3T\\xa1\\xa3[\\x80F*\\x8b\\x80\\xe2x\\xd9m\\x97\\xcd17\\x067\\x9e\\xec\\xb3\\xcac  P|\\xf0\\xad\\xbb8\\xf1q\\xf7\\xe2\\x04\\xf8@Z\\x87*>\\xfa(\\xcc\\x12\\x1dK+\\x07c\\xb7H\\xb9xw\\x89\\xc9\\xb5^.\\x80\\xba\\xd7J\\x90\\x8dh\\xb7\\x84\\xf0\\x9b\\xe7\\xb1\\xa3\\xc4]\\xf5C\\xa5\\xc4\\x9e\\xc2\\xab\\xc0<\\x81:H\\x03\\xb2#U\\x10\\xe0\\xe4\\xd0l\\xbf\\x88\\xa6\\xdf\\xca\\xaaZ\\xab\\xd6:F\\xad\\x93\\x9f+j=\\x07\\xcdY\\x15\\xde\\xaapUm\\xd6k\\xf3\\x9aj\\x8b\\xc7\\x96Q{?t\\x12\\x8e\\xc6\\xed\\xda\\xcfz\\xd5U\\x07\\x93\\x870\\x90\\xfa\\xe1\\x8c@\\xc9\\xebSs\\xc6\\xd4\\xd7\\xbcU\\xb9\\x93\\xfc\\xe2\\x91v\\xab\\xaaT\\x19\\x06\\xf48\\xeav\\xealA\\xf3\\x07l\\x16\\x8e\\x9c^\\xed\\x89-F\\t<\\xa2{*lB\\xf1\\xe0 m\\xccb\\xa3E\\xfa\\xa1\\xe3\\x80Dj\\xddM\\xa0e\\xab\\x9b\\x89 \\xa2>j\\xf3f\\xd5\\xe5V\\xc7\\xa0\\x1f\\x853\\xbd\\x1e\\xe2rT\\xeaa\\xe3s\\xc1%\\xa0\\xb9\\xddS\\xc538\\\\+5S9 \\\\\\xbejX\\xa9\\xc1Q\"`\\xae6`/\\x8aoQ\\xbdgS\\x07@\\xb9\\x93>BT6\\xdfQ\\x1b\\xbe\\xa5V\\xa5\\xb5j\\x1b\\xde\\xef\\x8d\\x99\\xadA\\xceM\\xa3\\xb5=[#e\\x1d_\\xe9\\x91Z\\xb7\\xdb\\xfa\\x99t2\\xad\\r\\xf8yL\\xfa3\\xafm\\xc4\\xa1845Q\\x82\\xbfn\\x93k\\x88Eo\\xfaD\\xc3\\xbc\\xe9\\xd16Ko4 mNo\\xd3\\xe7kV>I26\\xb2\\xcd\\xc1\\x03\\xba\\xc3\\xcc\\xd2\\x9e\\x1aGEY\\xa2q\\xe2\\xb6\\x05X\\xae\\xd5\\xf6\\x9ddT\\x1bm_s\\x8e\\xe4\\xb7\\xb5Sk\\xa3Z\\x1a8m0L\\xbb(\\xd2e\\xd3\\x8b\"\\xc1$\\x89\\xfc\\x94\\x16L\\xa0Yjq+\\xca\\xd8\\xa8\\xd9\\xfe(\\xf2\\x91\\x0f\\xa1\\x05\\x85BE/\\x07\\xa5\\x17\\x7fP*\\\\\\xaf{\\x10P%\\x1e\\xec\\xa4\\x87\\xae\\x16\\x89\\xea\\xc8a\\xa7\\x1d\\xedsu*\\xfc\\x91\\x06RFC\\r)\\x8fs\\xe9\\xd2k\\x7f=\\xa1\\xac\\xdd%\\x906\\xa2\\xa4\\xba\\x81\\x1d\\x12\\x87`M$\\xbbS\\xc8}B\\x8fF\\xe5\\x98\\x10\\xd3e\\x9dN\\x86\\xbch_z:\\x8e\\xf4\\r\\xfc7\\xf1\\xde\\x18\\xdexM\\xfdu\\x92\\xda}\\xaf\\x0e\\xa4:\\xb3R?F2\\x8e\\xf7K\\x13p\\xe5v\\xa0\\xf0\\xa5\\x95\\xb4\\xca\\xc4\\xb2\\xc7yB\\x0fa+\\x17\\xb1\\xfd\\xa8\\x1e\\xaa@\\n\\xa1\\x83Aa\\x0e@0*\\x97\\x1aP\\xa7\\x03Z\\x1b\\xe4\\x11a]\\x83\\x80\\x8d\\xde\\xb1Jc\\xd9\\xcf\\xa6\\xca\\xe6\\x18\\xcaA\\x9dj\\x81W\\x05i\\x95e\\x83.y\\x10\\x8c\\xa1T\\x12*\\x9e\\xc6\\x04\\x82S\\xcf\\x98\\xbe\\x87\\xc12&\\x06\\xe1!yY\\xc7b\\xd9Z\\x8c\\x18c\\x13\\xb5m\\x8c\\x8b\\xcd\\xc6\\x80\\xc4\\xfc\\xc88x{t\\xa6q\\xdc\\x06\\xd44\\xae\\xf8\\xb8\\xfb\\x0c(\\x1f\\x05/\\x03\\x01\\xa0\\xd5\\xc2\\t.\\xac\\x08\\x1b\\xce8\\xfc\\xcb\\x9b\\x05\\x8d\\xe2X%\\xa2\\xd5\\xb8\\xe4\\xa0\\xe0\\x8f\\xb3\\x05tIC[\\xfaK\\xbau\\xe9\\xd7@\\x0f[\\x19E~U\\x84\\xdf\\x94\\xa0P\\xe5\\x82\\xac\\x8b\\x1a\\x18f\\x0e\\x85-\\xa8\\xb3\\xcc\\xeb\\xf2.5b\\xb6\\xc4\\xe2!er\\xf4\\xa0GP\\xd9\\xec\\xbc\\x17\\xdf\\x11\\xf8\\xa9\\xe2\\x8bk+\\xe2~\\xe81\\xce6\\xa1V\\xe5\\xca\\x96\\xeb\\xa0\\x81\\x88\\x07G\\x93\\x80\\xd3i\\xc7\\x10z\\xfa\\x96Kn\\x00|\\xb1\\xa1\\xf4\\x08$\\x98j^8B\\x07\\xd9\\x88\\x04\\xf5\\x07B\\xfb\\xd7\\xdd\\xd2\\xc9\\x12dC\\xe7\\xae\\xc4&\\xbds\\xa9\\xc0\\xec\\x12\\\\?i\\x82t7\\x04\\x06\\xa1\\xe0\\xba>\\x99lu\\xa9M\\xda\\x86\\x0bkq\\xb1$\\xb149]\\xe1w\\xdd\\xd4\\x11\\xbc\\xaa>1\\xe4OU\\xb8\\xdfPC\\xfa\\xfa\\xd7\\x0b\\x05^&\\xc0\\x0et0]\\xe3\\xd2eu.\\xbbk\\xbe\\x96b\\xa2Q\\xb3\\xf8\\x81D2L\\x07\\x01G\\x87\\x124M\\xaa\\x14\\xfd<\\x13\\xac\\xcf~)v\\x16\\x8d\\xb5\\xe9\\x8e^t+\\x81\\xe1\\x96\\xf5\\xced1\\xb18\\xa7\\x18dp\\xa7A\\xdaf\\xf8\\x1awR\\x96i._\\x13\\xa9\\x9f\\xc4p\\xee\\xf0\\xe9\\x02c\\xf0\\xec@]\\x875\\'b\\xdeOr\\xee\\x8c\\x86l\\x1a}3\\xbd\\x1b\\xed\\x1a\\xdd\\x06\\xd2B\\xf3Y\\xd6L\\x86|@\\xda\\xcb\\xd0\\xf2W,\\x06\\x97@9\\xf4T\\x93\\xa2\\xa3N\\xc6\\x08\\x1bn\\x9f2$\\xbdF\\x07e\\x04\\xd3\\x88\\x83\\xcd\\xee67\\x8e\\xd5\\x9e\\xf0.\\x9b\\x85\\x03\\x82i\\xeb\\x00j\\xb8~\\xaf0d\\xd0\\x9c9\\x1ej\\x07\\x84\\xa1B\\x86\\xee\\xd9]\\x17\\xb4\\x1c\\x0e\\xba-\\x82\\x16Oho\\xcfLt\\x08\\x8a\\xb4\\n\\xf4\\xce0Y\\x104\\x85\\xcf@);UE\\x99S\\x80s\\x8d\\xc5^\\xb4*\\x04`\\x81\\x19Pv\\x17^\\xad\\x89\\x90L\\xda\\xe3\\x05\\xc12\\xc5hf|-D\\x1fEY\\x9b2\\xdb\\xd7\\x90t_N\\'x:\\xbd\\x08Z~\\xd1\\x8e\\x8b\\xec?\\xfc\\xe2\\xd1~w;J\\x92\\xaek\\xa5M\\x1b\\xb2\\xcbA\\xb0:\\x8a\\xef0}#\\xf6\\xebrB\\xea\\xd4\\xa8\\xe4\\xd2\\xf6\\x98\\x8b\\xfe\\x0c\\xbf\\xd56\\xc4\\x06\\xe8\\xe6\\xc6\\x1bJ\\x9b\\xf2>\\xdcf\\xe0\\xa3m,\\x86\\xa5\\xf7\\xda\\x03K\\x97\\x1f\\x0fge\\xbb\\xed\\xd7\\xf0\\xecCk\\xcb\\t\\xa0q8-P~\\x944\\x82\\xa6\\x92V2_:\\nQ\\x1a\\x87\\x96`\\x99@\\xf5\\x90\\x04\\x88\\xa4\\x1d.\\x03\\xb4\\xfd\\xd0\\xad\\x8f\\xbe9\\x19h\\xe8\\\\\\xfd\\x9d\\x1bG\\x7f\\r\\t\\xf8h\\xc7\\xe7vG?\\xd8\\xcbhP\\xa6\\x13\\x8b\\xe4\\xb0\\x85on\\xb1Xr\\x0e\\xe2(\\x96\\xc3g\\x08\\x87\\xf8}\\xb7\\xdb\\xa6\\x1e\\x1c\\x80\\xdb\\xcc\\xc9\\x9b\\xb6\\xad9\\x87\\xa1\\rmq\\xb8-\\x1d\\xd8\\xfe 7\\x898\\x1a~@D\\xfd\\x9eq\\x88\\xd6\\x18G\\x0e,\\x8e=\\xe2p\\xa6 \\x8b\\x17l\\n\\r1y\\']g\\xc5&\\xf64\\xbf\\xdcB|.\\xda\\xaf\\x9c\\x0e3\\x90p?\\xb4<\\'h\\x0fbq\\xb3A.\\xf3\\xe6q\\xe7\\xba\\xe3\\xf47\\x03\\x19;\\x1b\\'\\xdb\\x85\\xbb.2r{8U\\x08\\xcd\\xe7s\\xc5$]\\xf8\\xe2\\x02\\x00$\\x916`;=\\x16\\xd8?$\\x14R]\\x17\\xd2\\x84\\\\6\\xf1\\x86Z/}\\xef=\\xe6t\\t\\xf3\\x92\\xd7\\x1b(_8}\\xf4\\x98\\x89\\xee{D\\xa1_(\\x11\\xf42\\x84\\xa4X@I\\xd1\\x11\\x10t\\x07\\xb6\\x86{\\xcf\\r\\x91\\x13\\xf2\\x92F\\xa39\\x993\\x01\\x1d\\xad\\x0e%\\xa0\\x01\\xb3\\xa4X\\xb4\\xf2[5\\xc8\\'\\x852\\x89\\xa0\\xc5\\xa1Fn\\xdfq\\x8f\\xc3\\x91\\x94mD\\xfa\\x17\\xed\\x91\\x04\\xc8K\\xad\\x8a\\xb5\\x00\\x00\\x01\\xa5IDATx\\xda\\xed\\xdc1J\\x03A\\x14\\xc6\\xf1\\xff\\x13K\\x15\\xd6\\xceJHa/\\xb1\\xc8\\x016\\x95uZ\\xcbx\\x04=B<B,-7G\\xd8\\x1c\\xc0\"`/\\xac\\xd8Y\\x08Y\\xb0\\xb3z\\x16\\x99D\\x14\\xcby0\\xc2\\xf7m\\xb1\\x8f-^~\\x0c3\\xd3lfq\".&\\xacq:\\x861\\xfd\\x1dcHE\\xee\\x1c\\xf0\\xc0!\\x00o\\\\e\\xef\\x0e\\xf8r\\x9f:\\x00~\\x9a\\xd8p\\xc2%\\x9f\\x01\\xf2\\xa5y@W\\xabX\\xa7\\xb2\\xf7\\xe3\\x80\\x1f\\x00\\xf6\"\\x9az\\xcf\\xf5\\x86\\x9d\\xee\\x01\\t\\x19q\\x00\\xabXR{\\x1f\\x05\\x0f\\x19q\\x00\\xefY\\xc7\\xb1\\x03\\xe1\\xd1\\x11\\\\p\\xc1\\x0b\\x8d\\xe0\\x82\\x0b^h\\x04\\x17\\\\\\xf0B#\\xb8\\xe0\\x82\\x17\\x1a\\xc1\\x05\\x17\\xbc\\xd0\\x08.\\xb8\\xe0\\x85Fp\\xc1\\x05/4\\xc6\\x9cAP\\xef\\x11\\x8fQl\\x1f\\x87\\xbd.\\x04k}\\x1c\\xd6\\xfc\\xffN\\x15\\xc1\\x05\\x17\\xbc\\xd0\\x08.\\xb8\\xe0\\x85Fp\\xc1\\x05/4\\x82\\x0b.x\\xa1\\x11\\\\p\\xc1\\x0b\\x8d\\xe0\\x82\\x0b^h\\x04\\x17\\\\\\xf0B#\\xf8\\xcfXm3F6\\xb3\\xfa\\x1f\\xc1m`-S^x\\xe5\\x85\\xa9\\xb5\\x16\\xf3\\x1e5\\xfbi\\xe5\\x8a\\x8e\\x89\\xe3\\xd0\\xa6\\xd3\\xcb\\x1dU\\xc0\\xa9\\xe8\\xec\\r\\x1bnR\\xd5\\xa6\\xfbt[\\x15\\x0cg\\xc0jW\\xef\\xb8\\xac\\x18\\xe4\\x86\\xe7\\x9e\\xe35\\xcb?\\x9e.\\x98d_I\\x99\\xff\\x84p\\xc1\\x07\\xcf\\xa9>\\xe7)Ug\\x1c\\xb1\\xca\\xc9\\xf6q\\xee\\xa92a\\xfe\\xc7T\\x99m\\x96k\\xc1s\\xdc\\xf9\\xdeCv\\x8b\\xb3\\x8a\\xd8W\\xf2\\xef\\xe3\\xf7\\xcc\\x7f=\\xb9a\\x91\\xff\\xd8uv\\xb8\\xdf\\xd1[c\\xe9\\xeb\\nVY\\xc3\\xd0o\\xb3\\x0fO\\xfe\\xa9\\xe28L\\xe9hx\\xa7\\xa1\\xdb\\xee\\xea\\xb9\\xaf/\\x18\\xfe\\xa6y\\xb0\\x1e\\xef\\x0f\\x00\\x00\\x00%tEXtdate:create\\x002019-03-15T12:29:10+06:00:P\\x14\\x87\\x00\\x00\\x00%tEXtdate:modify\\x002019-03-15T12:29:10+06:00K\\r\\xac;\\x00\\x00\\x00\\x14tEXtpdf:Version\\x00PDF-1.5 \\x05\\\\\\x0b9\\x00\\x00\\x00\\x00IEND\\xaeB`\\x82'\n"
     ]
    }
   ],
   "source": [
    "compiled_latex = _latex_compile(latex_code, format='png')\n",
    "print(compiled_latex)"
   ]
  },
  {
   "cell_type": "code",
   "execution_count": 25,
   "metadata": {},
   "outputs": [
    {
     "data": {
      "image/png": "[encoded data removed]",
      "text/plain": [
       "<IPython.core.display.Image object>"
      ]
     },
     "execution_count": 25,
     "metadata": {},
     "output_type": "execute_result"
    }
   ],
   "source": [
    "from IPython.display import Image\n",
    "Image(compiled_latex, embed=True)"
   ]
  },
  {
   "cell_type": "code",
   "execution_count": 4,
   "metadata": {},
   "outputs": [],
   "source": [
    "_latex_compile??"
   ]
  },
  {
   "cell_type": "code",
   "execution_count": 8,
   "metadata": {},
   "outputs": [],
   "source": [
    "filename = 'qcirc'"
   ]
  },
  {
   "cell_type": "code",
   "execution_count": 18,
   "metadata": {},
   "outputs": [],
   "source": [
    "import os"
   ]
  },
  {
   "cell_type": "code",
   "execution_count": 19,
   "metadata": {},
   "outputs": [
    {
     "data": {
      "text/plain": [
       "0"
      ]
     },
     "execution_count": 19,
     "metadata": {},
     "output_type": "execute_result"
    }
   ],
   "source": [
    "os.system(\"rm -f %s.tex %s.pdf %s.png\" % (filename, filename, filename))"
   ]
  },
  {
   "cell_type": "code",
   "execution_count": 22,
   "metadata": {},
   "outputs": [],
   "source": [
    "with open(filename + \".tex\", \"w\") as file:\n",
    "    file.write(_latex_template % (_qcircuit_latex_min, latex_code ))"
   ]
  },
  {
   "cell_type": "code",
   "execution_count": null,
   "metadata": {},
   "outputs": [],
   "source": [
    "os.system(\"pdflatex -interaction batchmode %s.tex\" % filename)\n",
    "os.system(\"rm -f %s.aux %s.log\" % (filename, filename))\n",
    "os.system(\"pdfcrop %s.pdf %s-tmp.pdf\" % (filename, filename))\n",
    "os.system(\"mv %s-tmp.pdf %s.pdf\" % (filename, filename))\n",
    "\n",
    "if format == 'png':\n",
    "    os.system(\"convert -density %s %s.pdf %s.png\" % (100, filename,\n",
    "                                                     filename))\n",
    "    with open(\"%s.png\" % filename, \"rb\") as f:\n",
    "        result = f.read()\n",
    "else:\n",
    "    os.system(\"pdf2svg %s.pdf %s.svg\" % (filename, filename))\n",
    "    with open(\"%s.svg\" % filename) as f:\n",
    "        result = f.read()"
   ]
  },
  {
   "cell_type": "markdown",
   "metadata": {},
   "source": [
    "# Sandbox"
   ]
  },
  {
   "cell_type": "code",
   "execution_count": 11,
   "metadata": {},
   "outputs": [],
   "source": [
    "from qutip.qip.circuit_latex import _latex_template, _qcircuit_latex_min"
   ]
  },
  {
   "cell_type": "code",
   "execution_count": 12,
   "metadata": {},
   "outputs": [
    {
     "data": {
      "text/plain": [
       "'\\n\\\\documentclass{standalone}\\n%s\\n\\\\begin{document}\\n\\\\Qcircuit @C=1cm @R=1cm {\\n%s}\\n\\\\end{document}\\n'"
      ]
     },
     "execution_count": 12,
     "metadata": {},
     "output_type": "execute_result"
    }
   ],
   "source": [
    "_latex_template"
   ]
  },
  {
   "cell_type": "code",
   "execution_count": 13,
   "metadata": {},
   "outputs": [
    {
     "data": {
      "text/plain": [
       "'\\n% Q-circuit version 2\\n% Copyright (C) 2004 Steve Flammia & Bryan Eastin\\n% Last modified on: 9/16/2011\\n% License: http://www.gnu.org/licenses/gpl-2.0.html\\n% Original file: http://physics.unm.edu/CQuIC/Qcircuit/Qcircuit.tex\\n% Modified for QuTiP on: 5/22/2014\\n\\\\usepackage{xy}\\n\\\\xyoption{matrix}\\n\\\\xyoption{frame}\\n\\\\xyoption{arrow}\\n\\\\xyoption{arc}\\n\\\\usepackage{ifpdf}\\n\\\\entrymodifiers={!C\\\\entrybox}\\n\\\\newcommand{\\\\bra}[1]{{\\\\left\\\\langle{#1}\\\\right\\\\vert}}\\n\\\\newcommand{\\\\ket}[1]{{\\\\left\\\\vert{#1}\\\\right\\\\rangle}}\\n\\\\newcommand{\\\\qw}[1][-1]{\\\\ar @{-} [0,#1]}\\n\\\\newcommand{\\\\qwx}[1][-1]{\\\\ar @{-} [#1,0]}\\n\\\\newcommand{\\\\cw}[1][-1]{\\\\ar @{=} [0,#1]}\\n\\\\newcommand{\\\\cwx}[1][-1]{\\\\ar @{=} [#1,0]}\\n\\\\newcommand{\\\\gate}[1]{*+<.6em>{#1} \\\\POS =\"i\",\"i\"+UR;\"i\"+UL **\\\\dir{-};\"i\"+DL **\\\\dir{-};\"i\"+DR **\\\\dir{-};\"i\"+UR **\\\\dir{-},\"i\" \\\\qw}\\n\\\\newcommand{\\\\meter}{*=<1.8em,1.4em>{\\\\xy =\"j\",\"j\"-<.778em,.322em>;{\"j\"+<.778em,-.322em> \\\\ellipse ur,_{}},\"j\"-<0em,.4em>;p+<.5em,.9em> **\\\\dir{-},\"j\"+<2.2em,2.2em>*{},\"j\"-<2.2em,2.2em>*{} \\\\endxy} \\\\POS =\"i\",\"i\"+UR;\"i\"+UL **\\\\dir{-};\"i\"+DL **\\\\dir{-};\"i\"+DR **\\\\dir{-};\"i\"+UR **\\\\dir{-},\"i\" \\\\qw}\\n\\\\newcommand{\\\\measure}[1]{*+[F-:<.9em>]{#1} \\\\qw}\\n\\\\newcommand{\\\\measuretab}[1]{*{\\\\xy*+<.6em>{#1}=\"e\";\"e\"+UL;\"e\"+UR **\\\\dir{-};\"e\"+DR **\\\\dir{-};\"e\"+DL **\\\\dir{-};\"e\"+LC-<.5em,0em> **\\\\dir{-};\"e\"+UL **\\\\dir{-} \\\\endxy} \\\\qw}\\n\\\\newcommand{\\\\measureD}[1]{*{\\\\xy*+=<0em,.1em>{#1}=\"e\";\"e\"+UR+<0em,.25em>;\"e\"+UL+<-.5em,.25em> **\\\\dir{-};\"e\"+DL+<-.5em,-.25em> **\\\\dir{-};\"e\"+DR+<0em,-.25em> **\\\\dir{-};{\"e\"+UR+<0em,.25em>\\\\ellipse^{}};\"e\"+C:,+(0,1)*{} \\\\endxy} \\\\qw}\\n\\\\newcommand{\\\\multimeasure}[2]{*+<1em,.9em>{\\\\hphantom{#2}} \\\\qw \\\\POS[0,0].[#1,0];p !C *{#2},p \\\\drop\\\\frm<.9em>{-}}\\n\\\\newcommand{\\\\multimeasureD}[2]{*+<1em,.9em>{\\\\hphantom{#2}} \\\\POS [0,0]=\"i\",[0,0].[#1,0]=\"e\",!C *{#2},\"e\"+UR-<.8em,0em>;\"e\"+UL **\\\\dir{-};\"e\"+DL **\\\\dir{-};\"e\"+DR+<-.8em,0em> **\\\\dir{-};{\"e\"+DR+<0em,.8em>\\\\ellipse^{}};\"e\"+UR+<0em,-.8em> **\\\\dir{-};{\"e\"+UR-<.8em,0em>\\\\ellipse^{}},\"i\" \\\\qw}\\n\\\\newcommand{\\\\control}{*!<0em,.025em>-=-<.2em>{\\\\bullet}}\\n\\\\newcommand{\\\\controlo}{*+<.01em>{\\\\xy -<.095em>*\\\\xycircle<.19em>{} \\\\endxy}}\\n\\\\newcommand{\\\\ctrl}[1]{\\\\control \\\\qwx[#1] \\\\qw}\\n\\\\newcommand{\\\\ctrlo}[1]{\\\\controlo \\\\qwx[#1] \\\\qw}\\n\\\\newcommand{\\\\targ}{*+<.02em,.02em>{\\\\xy =\"i\",\"i\"-<.39em,0em>;\"i\"+<.39em,0em> **\\\\dir{-}, \"i\"-<0em,.39em>;\"i\"+<0em,.39em> **\\\\dir{-},\"i\"*\\\\xycircle<.4em>{} \\\\endxy} \\\\qw}\\n\\\\newcommand{\\\\qswap}{*=<0em>{\\\\times} \\\\qw}\\n\\\\newcommand{\\\\multigate}[2]{*+<1em,.9em>{\\\\hphantom{#2}} \\\\POS [0,0]=\"i\",[0,0].[#1,0]=\"e\",!C *{#2},\"e\"+UR;\"e\"+UL **\\\\dir{-};\"e\"+DL **\\\\dir{-};\"e\"+DR **\\\\dir{-};\"e\"+UR **\\\\dir{-},\"i\" \\\\qw}\\n\\\\newcommand{\\\\ghost}[1]{*+<1em,.9em>{\\\\hphantom{#1}} \\\\qw}\\n\\\\newcommand{\\\\push}[1]{*{#1}}\\n\\\\newcommand{\\\\gategroup}[6]{\\\\POS\"#1,#2\".\"#3,#2\".\"#1,#4\".\"#3,#4\"!C*+<#5>\\\\frm{#6}}\\n\\\\newcommand{\\\\rstick}[1]{*!L!<-.5em,0em>=<0em>{#1}}\\n\\\\newcommand{\\\\lstick}[1]{*!R!<.5em,0em>=<0em>{#1}}\\n\\\\newcommand{\\\\ustick}[1]{*!D!<0em,-.5em>=<0em>{#1}}\\n\\\\newcommand{\\\\dstick}[1]{*!U!<0em,.5em>=<0em>{#1}}\\n\\\\newcommand{\\\\Qcircuit}{\\\\xymatrix @*=<0em>}\\n\\\\newcommand{\\\\link}[2]{\\\\ar @{-} [#1,#2]}\\n\\\\newcommand{\\\\pureghost}[1]{*+<1em,.9em>{\\\\hphantom{#1}}}\\n'"
      ]
     },
     "execution_count": 13,
     "metadata": {},
     "output_type": "execute_result"
    }
   ],
   "source": [
    "_qcircuit_latex_min"
   ]
  },
  {
   "cell_type": "code",
   "execution_count": 21,
   "metadata": {},
   "outputs": [],
   "source": [
    "_latex_compile??"
   ]
  },
  {
   "cell_type": "code",
   "execution_count": null,
   "metadata": {},
   "outputs": [],
   "source": []
  }
 ],
 "metadata": {
  "kernelspec": {
   "display_name": "Python 3",
   "language": "python",
   "name": "python3"
  },
  "language_info": {
   "codemirror_mode": {
    "name": "ipython",
    "version": 3
   },
   "file_extension": ".py",
   "mimetype": "text/x-python",
   "name": "python",
   "nbconvert_exporter": "python",
   "pygments_lexer": "ipython3",
   "version": "3.6.8"
  },
  "toc": {
   "base_numbering": 1,
   "nav_menu": {},
   "number_sections": true,
   "sideBar": true,
   "skip_h1_title": false,
   "title_cell": "Table of Contents",
   "title_sidebar": "Contents",
   "toc_cell": false,
   "toc_position": {},
   "toc_section_display": true,
   "toc_window_display": false
  }
 },
 "nbformat": 4,
 "nbformat_minor": 2
}
